{
  "nbformat": 4,
  "nbformat_minor": 0,
  "metadata": {
    "colab": {
      "name": "keyModel.ipynb",
      "provenance": [],
      "authorship_tag": "ABX9TyO5IsGCxraIqwemOEb8KDdV",
      "include_colab_link": true
    },
    "kernelspec": {
      "name": "python3",
      "display_name": "Python 3"
    },
    "language_info": {
      "name": "python"
    }
  },
  "cells": [
    {
      "cell_type": "markdown",
      "metadata": {
        "id": "view-in-github",
        "colab_type": "text"
      },
      "source": [
        "<a href=\"https://colab.research.google.com/github/AsanAlacli/JSLABS/blob/main/keyModel.ipynb\" target=\"_parent\"><img src=\"https://colab.research.google.com/assets/colab-badge.svg\" alt=\"Open In Colab\"/></a>"
      ]
    },
    {
      "cell_type": "code",
      "metadata": {
        "colab": {
          "resources": {
            "http://localhost:8080/nbextensions/google.colab/files.js": {
              "data": "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",
              "ok": true,
              "headers": [
                [
                  "content-type",
                  "application/javascript"
                ]
              ],
              "status": 200,
              "status_text": ""
            }
          },
          "base_uri": "https://localhost:8080/",
          "height": 55
        },
        "id": "bnwG-GPmSNev",
        "outputId": "d6624036-f749-45c9-f67a-38008a1c4bf5"
      },
      "source": [
        "import json\n",
        "\n",
        "from google.colab import files\n",
        "\n",
        "license_keys = files.upload()\n",
        "\n",
        "with open(list(license_keys.keys())[0]) as f:\n",
        "    license_keys = json.load(f)"
      ],
      "execution_count": 2,
      "outputs": [
        {
          "output_type": "display_data",
          "data": {
            "text/html": [
              "\n",
              "     <input type=\"file\" id=\"files-a9afb95f-8d58-4a20-adbe-e78882a1fb36\" name=\"files[]\" multiple disabled\n",
              "        style=\"border:none\" />\n",
              "     <output id=\"result-a9afb95f-8d58-4a20-adbe-e78882a1fb36\">\n",
              "      Upload widget is only available when the cell has been executed in the\n",
              "      current browser session. Please rerun this cell to enable.\n",
              "      </output>\n",
              "      <script src=\"/nbextensions/google.colab/files.js\"></script> "
            ],
            "text/plain": [
              "<IPython.core.display.HTML object>"
            ]
          },
          "metadata": {
            "tags": []
          }
        },
        {
          "output_type": "stream",
          "text": [
            "Saving 3.0.0. OCR_spark_nlp_for_healthcare.txt to 3.0.0. OCR_spark_nlp_for_healthcare.txt\n"
          ],
          "name": "stdout"
        }
      ]
    },
    {
      "cell_type": "code",
      "metadata": {
        "id": "_xWQ7hymS6eP"
      },
      "source": [
        "%%capture\n",
        "for k,v in license_keys.items(): \n",
        "    %set_env $k=$v\n",
        "\n",
        "!wget https://raw.githubusercontent.com/JohnSnowLabs/spark-nlp-workshop/master/jsl_colab_setup.sh\n",
        "!bash jsl_colab_setup.sh\n",
        "\n",
        "! pip install spark-nlp-display"
      ],
      "execution_count": 3,
      "outputs": []
    },
    {
      "cell_type": "code",
      "metadata": {
        "colab": {
          "base_uri": "https://localhost:8080/"
        },
        "id": "7k0ybMyySxT-",
        "outputId": "f49a2350-a95c-436d-e027-7bf1c7b50105"
      },
      "source": [
        "import json\n",
        "import os\n",
        "from pyspark.ml import Pipeline,PipelineModel\n",
        "from pyspark.sql import SparkSession\n",
        "\n",
        "from sparknlp.annotator import *\n",
        "from sparknlp_jsl.annotator import *\n",
        "from sparknlp.base import *\n",
        "import sparknlp_jsl\n",
        "import sparknlp\n",
        "\n",
        "params = {\"spark.driver.memory\":\"16G\",\n",
        "\"spark.kryoserializer.buffer.max\":\"2000M\",\n",
        "\"spark.driver.maxResultSize\":\"2000M\"}\n",
        "\n",
        "spark = sparknlp_jsl.start(license_keys['SECRET'],params=params)\n",
        "\n",
        "print (\"Spark NLP Version :\", sparknlp.version())\n",
        "print (\"Spark NLP_JSL Version :\", sparknlp_jsl.version())"
      ],
      "execution_count": 4,
      "outputs": [
        {
          "output_type": "stream",
          "text": [
            "Spark NLP Version : 3.0.1\n",
            "Spark NLP_JSL Version : 3.0.0\n"
          ],
          "name": "stdout"
        }
      ]
    },
    {
      "cell_type": "code",
      "metadata": {
        "id": "LicaoCeCYj1H"
      },
      "source": [
        "# Annotator that transforms a text column from dataframe into an Annotation ready for NLP\n",
        "documentAssembler = DocumentAssembler()\\\n",
        "        .setInputCol(\"text\")\\\n",
        "        .setOutputCol(\"document\")\n",
        "\n",
        "'sentenceDetector = SentenceDetectorDLModel.pretrained(\"sentence_detector_dl_healthcare\",\"en\",\"clinical/models\")\\\n",
        "        .setInputCols([\"document\"])\\\n",
        "        .setOutputCol(\"sentence\")'\n",
        "\n",
        "'tokenizer = sparknlp.annotators.Tokenizer()\\\n",
        "    .setInputCols([\"sentences\"])\\\n",
        "    .setOutputCol(\"tokens\")'\n",
        "\n",
        "nlpPipeline = Pipeline(stages=[\n",
        "        documentAssembler\n",
        "        #sentenceDetector,\n",
        "        #tokenizer\n",
        "        ])\n",
        "\n",
        "\n",
        "empty_data = spark.createDataFrame([[\"\"]]).toDF(\"text\")\n",
        "\n",
        "model = nlpPipeline.fit(empty_data)"
      ],
      "execution_count": 61,
      "outputs": []
    },
    {
      "cell_type": "code",
      "metadata": {
        "colab": {
          "base_uri": "https://localhost:8080/"
        },
        "id": "s1qfwdSFY8CY",
        "outputId": "d567fa84-aead-4e11-8ec0-f08776126b5f"
      },
      "source": [
        "model.stages"
      ],
      "execution_count": 62,
      "outputs": [
        {
          "output_type": "execute_result",
          "data": {
            "text/plain": [
              "[DocumentAssembler_3e2127ce0ae8]"
            ]
          },
          "metadata": {
            "tags": []
          },
          "execution_count": 62
        }
      ]
    },
    {
      "cell_type": "code",
      "metadata": {
        "colab": {
          "base_uri": "https://localhost:8080/"
        },
        "id": "eN7-M0DJY8sU",
        "outputId": "b9496866-8f60-4fa4-b7c6-cc56a34ddc79"
      },
      "source": [
        "import pyspark.sql.functions as F\n",
        "\n",
        "first_spark_df = spark.read\\\n",
        "                .option(\"header\", \"true\")\\\n",
        "                .csv(\"mimic_100_pats.csv\")\\\n",
        "                \n",
        "first_spark_df.show(truncate=770)"
      ],
      "execution_count": 63,
      "outputs": [
        {
          "output_type": "stream",
          "text": [
            "+----------------------------------------------------------------------------+------+--------------------+--------+----------+-------------------------------------------------------------------------------+\n",
            "|                                                                         _c0|ROW_ID|          SUBJECT_ID| HADM_ID| CHARTDATE|                                                                           TEXT|\n",
            "+----------------------------------------------------------------------------+------+--------------------+--------+----------+-------------------------------------------------------------------------------+\n",
            "|                                                                         744|   934|               18589|181162.0|2191-05-10|Admission Date:  [**2191-4-18**]              Discharge Date:   [**2191-5-10**]|\n",
            "|                        Date of Birth:  [**2112-3-14**]             Sex:   M|  null|                null|    null|      null|                                                                           null|\n",
            "|                                                           Service: MEDICINE|  null|                null|    null|      null|                                                                           null|\n",
            "|                                                                  Allergies:|  null|                null|    null|      null|                                                                           null|\n",
            "|                                                                 Ceftriaxone|  null|                null|    null|      null|                                                                           null|\n",
            "|                                       Attending:[**First Name3 (LF) 2297**]|  null|                null|    null|      null|                                                                           null|\n",
            "|                                                            Chief Complaint:|  null|                null|    null|      null|                                                                           null|\n",
            "|                                                                   Pneumonia|  null|                null|    null|      null|                                                                           null|\n",
            "|                                       Major Surgical or Invasive Procedure:|  null|                null|    null|      null|                                                                           null|\n",
            "|                                                                        none|  null|                null|    null|      null|                                                                           null|\n",
            "|                                                 History of Present Illness:|  null|                null|    null|      null|                                                                           null|\n",
            "|This is a 79 yo recently diagnosed with [**Doctor Last Name 6261**] syndrome|  null|                null|    null|      null|                                                                           null|\n",
            "|             (transformation of CLL to large B cell NHL) now s/p 3 cycles of|  null|                null|    null|      null|                                                                           null|\n",
            "|         CHOP presents with PNA diagnosed at [**Hospital1 **] ED.  The pt is|  null|                null|    null|      null|                                                                           null|\n",
            "|   now referred from [**Hospital 478**] clinic for treatment of PNA.  The pt|  null|                null|    null|      null|                                                                           null|\n",
            "|        presented to OSH ED on [**4-13**] and was diagnosed with LLL PNA and|  null|                null|    null|      null|                                                                           null|\n",
            "|            was given a course of levofloxacin.  The pt did not take his abx|  null|                null|    null|      null|                                                                           null|\n",
            "|                                        as prescribed.  He c/o increased SOB|   DOE| and cough x 1 week.|    null|      null|                                                                           null|\n",
            "|                  The pt also c/o decrease appetite over past week with 4 lb|  null|                null|    null|      null|                                                                           null|\n",
            "|                             weight loss.  No increase in fatigue.  No f/c/s|   n/v|                 d/c|    null|      null|                                                                           null|\n",
            "+----------------------------------------------------------------------------+------+--------------------+--------+----------+-------------------------------------------------------------------------------+\n",
            "only showing top 20 rows\n",
            "\n"
          ],
          "name": "stdout"
        }
      ]
    },
    {
      "cell_type": "code",
      "metadata": {
        "colab": {
          "base_uri": "https://localhost:8080/",
          "height": 35
        },
        "id": "NsfLOyPxzg8U",
        "outputId": "a8082225-79d8-4609-ea0d-60205d95c3e7"
      },
      "source": [
        "#first_spark_df.show()\n",
        "text = first_spark_df.select('_c0').take(1)[0][0]\n",
        "text"
      ],
      "execution_count": 114,
      "outputs": [
        {
          "output_type": "execute_result",
          "data": {
            "application/vnd.google.colaboratory.intrinsic+json": {
              "type": "string"
            },
            "text/plain": [
              "'744'"
            ]
          },
          "metadata": {
            "tags": []
          },
          "execution_count": 114
        }
      ]
    },
    {
      "cell_type": "code",
      "metadata": {
        "id": "Boxja-hsGarr"
      },
      "source": [
        "lmodel = LightPipeline(model)\n",
        "\n",
        "results = lmodel.fullAnnotate(text)"
      ],
      "execution_count": 58,
      "outputs": []
    },
    {
      "cell_type": "code",
      "metadata": {
        "id": "_AsFiqdozYU_"
      },
      "source": [
        ""
      ],
      "execution_count": null,
      "outputs": []
    },
    {
      "cell_type": "code",
      "metadata": {
        "colab": {
          "base_uri": "https://localhost:8080/"
        },
        "id": "rgtldBg0bTyr",
        "outputId": "48c9c795-fd3f-4fd4-cec2-c5fd5ad904ed"
      },
      "source": [
        "results[0].keys()"
      ],
      "execution_count": 59,
      "outputs": [
        {
          "output_type": "execute_result",
          "data": {
            "text/plain": [
              "dict_keys(['document'])"
            ]
          },
          "metadata": {
            "tags": []
          },
          "execution_count": 59
        }
      ]
    },
    {
      "cell_type": "code",
      "metadata": {
        "colab": {
          "base_uri": "https://localhost:8080/"
        },
        "id": "S8bWy_uTb_XF",
        "outputId": "f39dfca7-bb2d-448c-f188-1be23225e97c"
      },
      "source": [
        "results[0]"
      ],
      "execution_count": 60,
      "outputs": [
        {
          "output_type": "execute_result",
          "data": {
            "text/plain": [
              "{'document': [Annotation(document, 0, 2, 744, {})]}"
            ]
          },
          "metadata": {
            "tags": []
          },
          "execution_count": 60
        }
      ]
    },
    {
      "cell_type": "code",
      "metadata": {
        "id": "CvLDznmax8da"
      },
      "source": [
        "import pandas as pd"
      ],
      "execution_count": 65,
      "outputs": []
    },
    {
      "cell_type": "code",
      "metadata": {
        "colab": {
          "base_uri": "https://localhost:8080/",
          "height": 419
        },
        "id": "a7-PteRj1d1y",
        "outputId": "ebf49304-c1eb-4852-d502-50fc7f4bc97b"
      },
      "source": [
        "pandas_df=pd.read_csv('mimic_100_pats.csv')\n",
        "pandas_df"
      ],
      "execution_count": 68,
      "outputs": [
        {
          "output_type": "execute_result",
          "data": {
            "text/html": [
              "<div>\n",
              "<style scoped>\n",
              "    .dataframe tbody tr th:only-of-type {\n",
              "        vertical-align: middle;\n",
              "    }\n",
              "\n",
              "    .dataframe tbody tr th {\n",
              "        vertical-align: top;\n",
              "    }\n",
              "\n",
              "    .dataframe thead th {\n",
              "        text-align: right;\n",
              "    }\n",
              "</style>\n",
              "<table border=\"1\" class=\"dataframe\">\n",
              "  <thead>\n",
              "    <tr style=\"text-align: right;\">\n",
              "      <th></th>\n",
              "      <th>Unnamed: 0</th>\n",
              "      <th>ROW_ID</th>\n",
              "      <th>SUBJECT_ID</th>\n",
              "      <th>HADM_ID</th>\n",
              "      <th>CHARTDATE</th>\n",
              "      <th>TEXT</th>\n",
              "    </tr>\n",
              "  </thead>\n",
              "  <tbody>\n",
              "    <tr>\n",
              "      <th>0</th>\n",
              "      <td>744</td>\n",
              "      <td>934</td>\n",
              "      <td>18589</td>\n",
              "      <td>181162.0</td>\n",
              "      <td>2191-05-10</td>\n",
              "      <td>Admission Date:  [**2191-4-18**]              ...</td>\n",
              "    </tr>\n",
              "    <tr>\n",
              "      <th>1</th>\n",
              "      <td>1315</td>\n",
              "      <td>1125</td>\n",
              "      <td>17581</td>\n",
              "      <td>144831.0</td>\n",
              "      <td>2126-05-22</td>\n",
              "      <td>Admission Date:  [**2126-5-7**]     Discharge ...</td>\n",
              "    </tr>\n",
              "    <tr>\n",
              "      <th>2</th>\n",
              "      <td>1316</td>\n",
              "      <td>1126</td>\n",
              "      <td>17581</td>\n",
              "      <td>140044.0</td>\n",
              "      <td>2127-07-29</td>\n",
              "      <td>Admission Date:  [**2127-7-27**]              ...</td>\n",
              "    </tr>\n",
              "    <tr>\n",
              "      <th>3</th>\n",
              "      <td>2117</td>\n",
              "      <td>1896</td>\n",
              "      <td>8904</td>\n",
              "      <td>147403.0</td>\n",
              "      <td>2108-03-13</td>\n",
              "      <td>Admission Date:  [**2108-2-22**]              ...</td>\n",
              "    </tr>\n",
              "    <tr>\n",
              "      <th>4</th>\n",
              "      <td>2761</td>\n",
              "      <td>2872</td>\n",
              "      <td>18054</td>\n",
              "      <td>138511.0</td>\n",
              "      <td>2147-12-11</td>\n",
              "      <td>Admission Date:  [**2147-11-22**]     Discharg...</td>\n",
              "    </tr>\n",
              "    <tr>\n",
              "      <th>...</th>\n",
              "      <td>...</td>\n",
              "      <td>...</td>\n",
              "      <td>...</td>\n",
              "      <td>...</td>\n",
              "      <td>...</td>\n",
              "      <td>...</td>\n",
              "    </tr>\n",
              "    <tr>\n",
              "      <th>9637</th>\n",
              "      <td>2080622</td>\n",
              "      <td>2054683</td>\n",
              "      <td>29266</td>\n",
              "      <td>102339.0</td>\n",
              "      <td>2128-07-03</td>\n",
              "      <td>Neonatology\\r\\nDoing well. remains in NCO2 flo...</td>\n",
              "    </tr>\n",
              "    <tr>\n",
              "      <th>9638</th>\n",
              "      <td>2080623</td>\n",
              "      <td>2054684</td>\n",
              "      <td>29266</td>\n",
              "      <td>102339.0</td>\n",
              "      <td>2128-07-03</td>\n",
              "      <td>Neonatology NP Note\\r\\nPE\\r\\nswaddled in open ...</td>\n",
              "    </tr>\n",
              "    <tr>\n",
              "      <th>9639</th>\n",
              "      <td>2080624</td>\n",
              "      <td>2054685</td>\n",
              "      <td>29266</td>\n",
              "      <td>102339.0</td>\n",
              "      <td>2128-07-03</td>\n",
              "      <td>Nursing NICU Note\\r\\n\\r\\n\\r\\n#1.  Respiratory ...</td>\n",
              "    </tr>\n",
              "    <tr>\n",
              "      <th>9640</th>\n",
              "      <td>2080720</td>\n",
              "      <td>2054641</td>\n",
              "      <td>29266</td>\n",
              "      <td>102339.0</td>\n",
              "      <td>2128-06-24</td>\n",
              "      <td>Neonatology Attending\\r\\nDOL 3 / PMA 40-4/7 we...</td>\n",
              "    </tr>\n",
              "    <tr>\n",
              "      <th>9641</th>\n",
              "      <td>2080721</td>\n",
              "      <td>2054642</td>\n",
              "      <td>29266</td>\n",
              "      <td>102339.0</td>\n",
              "      <td>2128-06-24</td>\n",
              "      <td>Neonatology [** 63**] note\\r\\nPE:\\r\\n\\r\\nNEURO...</td>\n",
              "    </tr>\n",
              "  </tbody>\n",
              "</table>\n",
              "<p>9642 rows × 6 columns</p>\n",
              "</div>"
            ],
            "text/plain": [
              "      Unnamed: 0  ...                                               TEXT\n",
              "0            744  ...  Admission Date:  [**2191-4-18**]              ...\n",
              "1           1315  ...  Admission Date:  [**2126-5-7**]     Discharge ...\n",
              "2           1316  ...  Admission Date:  [**2127-7-27**]              ...\n",
              "3           2117  ...  Admission Date:  [**2108-2-22**]              ...\n",
              "4           2761  ...  Admission Date:  [**2147-11-22**]     Discharg...\n",
              "...          ...  ...                                                ...\n",
              "9637     2080622  ...  Neonatology\\r\\nDoing well. remains in NCO2 flo...\n",
              "9638     2080623  ...  Neonatology NP Note\\r\\nPE\\r\\nswaddled in open ...\n",
              "9639     2080624  ...  Nursing NICU Note\\r\\n\\r\\n\\r\\n#1.  Respiratory ...\n",
              "9640     2080720  ...  Neonatology Attending\\r\\nDOL 3 / PMA 40-4/7 we...\n",
              "9641     2080721  ...  Neonatology [** 63**] note\\r\\nPE:\\r\\n\\r\\nNEURO...\n",
              "\n",
              "[9642 rows x 6 columns]"
            ]
          },
          "metadata": {
            "tags": []
          },
          "execution_count": 68
        }
      ]
    },
    {
      "cell_type": "code",
      "metadata": {
        "colab": {
          "base_uri": "https://localhost:8080/",
          "height": 35
        },
        "id": "99ojIsE91qEg",
        "outputId": "ca0ccf3e-2fc0-4f70-c973-67c0cab7a8b5"
      },
      "source": [
        "pandas_df.columns[0]"
      ],
      "execution_count": 73,
      "outputs": [
        {
          "output_type": "execute_result",
          "data": {
            "application/vnd.google.colaboratory.intrinsic+json": {
              "type": "string"
            },
            "text/plain": [
              "'Unnamed: 0'"
            ]
          },
          "metadata": {
            "tags": []
          },
          "execution_count": 73
        }
      ]
    },
    {
      "cell_type": "code",
      "metadata": {
        "id": "9hrqjyB-6faF"
      },
      "source": [
        "pandas_df = pandas_df.rename(columns={'Unnamed: 0' : 'UKNWN_COL'})"
      ],
      "execution_count": 75,
      "outputs": []
    },
    {
      "cell_type": "code",
      "metadata": {
        "colab": {
          "base_uri": "https://localhost:8080/",
          "height": 669
        },
        "id": "cBOiATP_8B9J",
        "outputId": "ef92200a-8969-4bcb-c5ce-a6433a8eb0e8"
      },
      "source": [
        "pandas_df.head(20)"
      ],
      "execution_count": 77,
      "outputs": [
        {
          "output_type": "execute_result",
          "data": {
            "text/html": [
              "<div>\n",
              "<style scoped>\n",
              "    .dataframe tbody tr th:only-of-type {\n",
              "        vertical-align: middle;\n",
              "    }\n",
              "\n",
              "    .dataframe tbody tr th {\n",
              "        vertical-align: top;\n",
              "    }\n",
              "\n",
              "    .dataframe thead th {\n",
              "        text-align: right;\n",
              "    }\n",
              "</style>\n",
              "<table border=\"1\" class=\"dataframe\">\n",
              "  <thead>\n",
              "    <tr style=\"text-align: right;\">\n",
              "      <th></th>\n",
              "      <th>UKNWN_COL</th>\n",
              "      <th>ROW_ID</th>\n",
              "      <th>SUBJECT_ID</th>\n",
              "      <th>HADM_ID</th>\n",
              "      <th>CHARTDATE</th>\n",
              "      <th>TEXT</th>\n",
              "    </tr>\n",
              "  </thead>\n",
              "  <tbody>\n",
              "    <tr>\n",
              "      <th>0</th>\n",
              "      <td>744</td>\n",
              "      <td>934</td>\n",
              "      <td>18589</td>\n",
              "      <td>181162.0</td>\n",
              "      <td>2191-05-10</td>\n",
              "      <td>Admission Date:  [**2191-4-18**]              ...</td>\n",
              "    </tr>\n",
              "    <tr>\n",
              "      <th>1</th>\n",
              "      <td>1315</td>\n",
              "      <td>1125</td>\n",
              "      <td>17581</td>\n",
              "      <td>144831.0</td>\n",
              "      <td>2126-05-22</td>\n",
              "      <td>Admission Date:  [**2126-5-7**]     Discharge ...</td>\n",
              "    </tr>\n",
              "    <tr>\n",
              "      <th>2</th>\n",
              "      <td>1316</td>\n",
              "      <td>1126</td>\n",
              "      <td>17581</td>\n",
              "      <td>140044.0</td>\n",
              "      <td>2127-07-29</td>\n",
              "      <td>Admission Date:  [**2127-7-27**]              ...</td>\n",
              "    </tr>\n",
              "    <tr>\n",
              "      <th>3</th>\n",
              "      <td>2117</td>\n",
              "      <td>1896</td>\n",
              "      <td>8904</td>\n",
              "      <td>147403.0</td>\n",
              "      <td>2108-03-13</td>\n",
              "      <td>Admission Date:  [**2108-2-22**]              ...</td>\n",
              "    </tr>\n",
              "    <tr>\n",
              "      <th>4</th>\n",
              "      <td>2761</td>\n",
              "      <td>2872</td>\n",
              "      <td>18054</td>\n",
              "      <td>138511.0</td>\n",
              "      <td>2147-12-11</td>\n",
              "      <td>Admission Date:  [**2147-11-22**]     Discharg...</td>\n",
              "    </tr>\n",
              "    <tr>\n",
              "      <th>5</th>\n",
              "      <td>2762</td>\n",
              "      <td>2873</td>\n",
              "      <td>18054</td>\n",
              "      <td>191467.0</td>\n",
              "      <td>2157-12-02</td>\n",
              "      <td>Admission Date:  [**2157-11-25**]             ...</td>\n",
              "    </tr>\n",
              "    <tr>\n",
              "      <th>6</th>\n",
              "      <td>3414</td>\n",
              "      <td>3704</td>\n",
              "      <td>52574</td>\n",
              "      <td>109934.0</td>\n",
              "      <td>2180-08-31</td>\n",
              "      <td>Admission Date:  [**2180-8-28**]              ...</td>\n",
              "    </tr>\n",
              "    <tr>\n",
              "      <th>7</th>\n",
              "      <td>3415</td>\n",
              "      <td>3705</td>\n",
              "      <td>52574</td>\n",
              "      <td>189995.0</td>\n",
              "      <td>2180-10-29</td>\n",
              "      <td>Admission Date:  [**2180-10-19**]             ...</td>\n",
              "    </tr>\n",
              "    <tr>\n",
              "      <th>8</th>\n",
              "      <td>3416</td>\n",
              "      <td>3706</td>\n",
              "      <td>52574</td>\n",
              "      <td>177706.0</td>\n",
              "      <td>2181-02-27</td>\n",
              "      <td>Admission Date:  [**2181-2-23**]              ...</td>\n",
              "    </tr>\n",
              "    <tr>\n",
              "      <th>9</th>\n",
              "      <td>4287</td>\n",
              "      <td>4273</td>\n",
              "      <td>11425</td>\n",
              "      <td>194366.0</td>\n",
              "      <td>2100-09-24</td>\n",
              "      <td>Admission Date:  [**2100-9-5**]       Discharg...</td>\n",
              "    </tr>\n",
              "    <tr>\n",
              "      <th>10</th>\n",
              "      <td>4998</td>\n",
              "      <td>4994</td>\n",
              "      <td>19823</td>\n",
              "      <td>179754.0</td>\n",
              "      <td>2167-02-25</td>\n",
              "      <td>Admission Date:  [**2167-2-16**]       Dischar...</td>\n",
              "    </tr>\n",
              "    <tr>\n",
              "      <th>11</th>\n",
              "      <td>4999</td>\n",
              "      <td>4995</td>\n",
              "      <td>19823</td>\n",
              "      <td>134485.0</td>\n",
              "      <td>2167-11-27</td>\n",
              "      <td>Admission Date:  [**2167-11-27**]       Discha...</td>\n",
              "    </tr>\n",
              "    <tr>\n",
              "      <th>12</th>\n",
              "      <td>5000</td>\n",
              "      <td>4996</td>\n",
              "      <td>19823</td>\n",
              "      <td>116955.0</td>\n",
              "      <td>2170-10-12</td>\n",
              "      <td>Admission Date:  [**2170-9-19**]              ...</td>\n",
              "    </tr>\n",
              "    <tr>\n",
              "      <th>13</th>\n",
              "      <td>5001</td>\n",
              "      <td>4997</td>\n",
              "      <td>19823</td>\n",
              "      <td>153858.0</td>\n",
              "      <td>2172-06-22</td>\n",
              "      <td>Admission Date:  [**2172-6-13**]              ...</td>\n",
              "    </tr>\n",
              "    <tr>\n",
              "      <th>14</th>\n",
              "      <td>5066</td>\n",
              "      <td>5166</td>\n",
              "      <td>22015</td>\n",
              "      <td>140074.0</td>\n",
              "      <td>2161-05-22</td>\n",
              "      <td>Admission Date:  [**2161-5-2**]              D...</td>\n",
              "    </tr>\n",
              "    <tr>\n",
              "      <th>15</th>\n",
              "      <td>5428</td>\n",
              "      <td>5427</td>\n",
              "      <td>1763</td>\n",
              "      <td>153895.0</td>\n",
              "      <td>2132-03-27</td>\n",
              "      <td>Admission Date:  [**2132-2-29**]       Dischar...</td>\n",
              "    </tr>\n",
              "    <tr>\n",
              "      <th>16</th>\n",
              "      <td>6558</td>\n",
              "      <td>7135</td>\n",
              "      <td>2148</td>\n",
              "      <td>123870.0</td>\n",
              "      <td>2148-11-03</td>\n",
              "      <td>Admission Date:  [**2148-10-17**]     Discharg...</td>\n",
              "    </tr>\n",
              "    <tr>\n",
              "      <th>17</th>\n",
              "      <td>6782</td>\n",
              "      <td>12290</td>\n",
              "      <td>15731</td>\n",
              "      <td>156251.0</td>\n",
              "      <td>2121-04-20</td>\n",
              "      <td>Admission Date:  [**2121-3-30**]       Dischar...</td>\n",
              "    </tr>\n",
              "    <tr>\n",
              "      <th>18</th>\n",
              "      <td>8168</td>\n",
              "      <td>6522</td>\n",
              "      <td>3268</td>\n",
              "      <td>103745.0</td>\n",
              "      <td>2161-11-16</td>\n",
              "      <td>Admission Date:  [**2161-11-3**]       Dischar...</td>\n",
              "    </tr>\n",
              "    <tr>\n",
              "      <th>19</th>\n",
              "      <td>8169</td>\n",
              "      <td>6523</td>\n",
              "      <td>3268</td>\n",
              "      <td>115960.0</td>\n",
              "      <td>2167-03-15</td>\n",
              "      <td>Admission Date:  [**2167-3-2**]              D...</td>\n",
              "    </tr>\n",
              "  </tbody>\n",
              "</table>\n",
              "</div>"
            ],
            "text/plain": [
              "    UKNWN_COL  ...                                               TEXT\n",
              "0         744  ...  Admission Date:  [**2191-4-18**]              ...\n",
              "1        1315  ...  Admission Date:  [**2126-5-7**]     Discharge ...\n",
              "2        1316  ...  Admission Date:  [**2127-7-27**]              ...\n",
              "3        2117  ...  Admission Date:  [**2108-2-22**]              ...\n",
              "4        2761  ...  Admission Date:  [**2147-11-22**]     Discharg...\n",
              "5        2762  ...  Admission Date:  [**2157-11-25**]             ...\n",
              "6        3414  ...  Admission Date:  [**2180-8-28**]              ...\n",
              "7        3415  ...  Admission Date:  [**2180-10-19**]             ...\n",
              "8        3416  ...  Admission Date:  [**2181-2-23**]              ...\n",
              "9        4287  ...  Admission Date:  [**2100-9-5**]       Discharg...\n",
              "10       4998  ...  Admission Date:  [**2167-2-16**]       Dischar...\n",
              "11       4999  ...  Admission Date:  [**2167-11-27**]       Discha...\n",
              "12       5000  ...  Admission Date:  [**2170-9-19**]              ...\n",
              "13       5001  ...  Admission Date:  [**2172-6-13**]              ...\n",
              "14       5066  ...  Admission Date:  [**2161-5-2**]              D...\n",
              "15       5428  ...  Admission Date:  [**2132-2-29**]       Dischar...\n",
              "16       6558  ...  Admission Date:  [**2148-10-17**]     Discharg...\n",
              "17       6782  ...  Admission Date:  [**2121-3-30**]       Dischar...\n",
              "18       8168  ...  Admission Date:  [**2161-11-3**]       Dischar...\n",
              "19       8169  ...  Admission Date:  [**2167-3-2**]              D...\n",
              "\n",
              "[20 rows x 6 columns]"
            ]
          },
          "metadata": {
            "tags": []
          },
          "execution_count": 77
        }
      ]
    },
    {
      "cell_type": "code",
      "metadata": {
        "colab": {
          "base_uri": "https://localhost:8080/",
          "height": 669
        },
        "id": "TcrKrdWB8H47",
        "outputId": "58e99e07-7d7a-4260-e5b3-305b156fa841"
      },
      "source": [
        "pandas_df.tail(20)"
      ],
      "execution_count": 78,
      "outputs": [
        {
          "output_type": "execute_result",
          "data": {
            "text/html": [
              "<div>\n",
              "<style scoped>\n",
              "    .dataframe tbody tr th:only-of-type {\n",
              "        vertical-align: middle;\n",
              "    }\n",
              "\n",
              "    .dataframe tbody tr th {\n",
              "        vertical-align: top;\n",
              "    }\n",
              "\n",
              "    .dataframe thead th {\n",
              "        text-align: right;\n",
              "    }\n",
              "</style>\n",
              "<table border=\"1\" class=\"dataframe\">\n",
              "  <thead>\n",
              "    <tr style=\"text-align: right;\">\n",
              "      <th></th>\n",
              "      <th>UKNWN_COL</th>\n",
              "      <th>ROW_ID</th>\n",
              "      <th>SUBJECT_ID</th>\n",
              "      <th>HADM_ID</th>\n",
              "      <th>CHARTDATE</th>\n",
              "      <th>TEXT</th>\n",
              "    </tr>\n",
              "  </thead>\n",
              "  <tbody>\n",
              "    <tr>\n",
              "      <th>9622</th>\n",
              "      <td>2080058</td>\n",
              "      <td>2054625</td>\n",
              "      <td>29266</td>\n",
              "      <td>102339.0</td>\n",
              "      <td>2128-06-22</td>\n",
              "      <td>NPN\\r\\n\\r\\n\\r\\n#1RESP: Recv'd infant in NC 1 l...</td>\n",
              "    </tr>\n",
              "    <tr>\n",
              "      <th>9623</th>\n",
              "      <td>2080059</td>\n",
              "      <td>2054626</td>\n",
              "      <td>29266</td>\n",
              "      <td>102339.0</td>\n",
              "      <td>2128-06-22</td>\n",
              "      <td>Respiratory Care\\r\\nInfant placed in oxyhood t...</td>\n",
              "    </tr>\n",
              "    <tr>\n",
              "      <th>9624</th>\n",
              "      <td>2080060</td>\n",
              "      <td>2054627</td>\n",
              "      <td>29266</td>\n",
              "      <td>102339.0</td>\n",
              "      <td>2128-06-22</td>\n",
              "      <td>Neonatology Attending\\r\\nDOL 1 / PMA 40-2/7 we...</td>\n",
              "    </tr>\n",
              "    <tr>\n",
              "      <th>9625</th>\n",
              "      <td>2080061</td>\n",
              "      <td>2054686</td>\n",
              "      <td>29266</td>\n",
              "      <td>102339.0</td>\n",
              "      <td>2128-07-04</td>\n",
              "      <td>NICU NPN 1900-0700\\r\\n\\r\\n\\r\\nRESP O: [**Known...</td>\n",
              "    </tr>\n",
              "    <tr>\n",
              "      <th>9626</th>\n",
              "      <td>2080181</td>\n",
              "      <td>2054650</td>\n",
              "      <td>29266</td>\n",
              "      <td>102339.0</td>\n",
              "      <td>2128-06-26</td>\n",
              "      <td>npn 1900-0700\\r\\n\\r\\n\\r\\n#1 resp\\r\\ninfant con...</td>\n",
              "    </tr>\n",
              "    <tr>\n",
              "      <th>9627</th>\n",
              "      <td>2080182</td>\n",
              "      <td>2054651</td>\n",
              "      <td>29266</td>\n",
              "      <td>102339.0</td>\n",
              "      <td>2128-06-26</td>\n",
              "      <td>Neonatology Attending Note\\r\\nDay 5, PMA 40 6\\...</td>\n",
              "    </tr>\n",
              "    <tr>\n",
              "      <th>9628</th>\n",
              "      <td>2080183</td>\n",
              "      <td>2054652</td>\n",
              "      <td>29266</td>\n",
              "      <td>102339.0</td>\n",
              "      <td>2128-06-26</td>\n",
              "      <td>NPN DAYS\\r\\n\\r\\n\\r\\nALT IN RESP:REMAINS IN NAS...</td>\n",
              "    </tr>\n",
              "    <tr>\n",
              "      <th>9629</th>\n",
              "      <td>2080184</td>\n",
              "      <td>2054714</td>\n",
              "      <td>29266</td>\n",
              "      <td>102339.0</td>\n",
              "      <td>2128-07-10</td>\n",
              "      <td>Attending Note\\r\\nDay of life 19 PMA 42 [**5-1...</td>\n",
              "    </tr>\n",
              "    <tr>\n",
              "      <th>9630</th>\n",
              "      <td>2080330</td>\n",
              "      <td>2054622</td>\n",
              "      <td>29266</td>\n",
              "      <td>102339.0</td>\n",
              "      <td>2128-06-21</td>\n",
              "      <td>Neonatology Attending\\r\\nFull term infant admi...</td>\n",
              "    </tr>\n",
              "    <tr>\n",
              "      <th>9631</th>\n",
              "      <td>2080331</td>\n",
              "      <td>2054623</td>\n",
              "      <td>29266</td>\n",
              "      <td>102339.0</td>\n",
              "      <td>2128-06-21</td>\n",
              "      <td>Neonatology Attending\\r\\n(Continued)\\r\\nymptom...</td>\n",
              "    </tr>\n",
              "    <tr>\n",
              "      <th>9632</th>\n",
              "      <td>2080332</td>\n",
              "      <td>2054624</td>\n",
              "      <td>29266</td>\n",
              "      <td>102339.0</td>\n",
              "      <td>2128-06-21</td>\n",
              "      <td>NICU NURSING ADMIT NOTE\\r\\nTHIS IS A FULL TERM...</td>\n",
              "    </tr>\n",
              "    <tr>\n",
              "      <th>9633</th>\n",
              "      <td>2080346</td>\n",
              "      <td>2054687</td>\n",
              "      <td>29266</td>\n",
              "      <td>102339.0</td>\n",
              "      <td>2128-07-04</td>\n",
              "      <td>Neonatology\\r\\nDOL #13, CGA 42 weeks.\\r\\n\\r\\nC...</td>\n",
              "    </tr>\n",
              "    <tr>\n",
              "      <th>9634</th>\n",
              "      <td>2080347</td>\n",
              "      <td>2054688</td>\n",
              "      <td>29266</td>\n",
              "      <td>102339.0</td>\n",
              "      <td>2128-07-04</td>\n",
              "      <td>Nursing NICU Note\\r\\n\\r\\n\\r\\n#1.  Respiratory ...</td>\n",
              "    </tr>\n",
              "    <tr>\n",
              "      <th>9635</th>\n",
              "      <td>2080473</td>\n",
              "      <td>2054715</td>\n",
              "      <td>29266</td>\n",
              "      <td>102339.0</td>\n",
              "      <td>2128-07-10</td>\n",
              "      <td>NPN 0700-[**2051**]\\r\\n\\r\\n\\r\\n1.  IN RA with ...</td>\n",
              "    </tr>\n",
              "    <tr>\n",
              "      <th>9636</th>\n",
              "      <td>2080621</td>\n",
              "      <td>2054682</td>\n",
              "      <td>29266</td>\n",
              "      <td>102339.0</td>\n",
              "      <td>2128-07-03</td>\n",
              "      <td>NPN 1900-0700\\r\\n\\r\\n\\r\\nRESP:  Infant remains...</td>\n",
              "    </tr>\n",
              "    <tr>\n",
              "      <th>9637</th>\n",
              "      <td>2080622</td>\n",
              "      <td>2054683</td>\n",
              "      <td>29266</td>\n",
              "      <td>102339.0</td>\n",
              "      <td>2128-07-03</td>\n",
              "      <td>Neonatology\\r\\nDoing well. remains in NCO2 flo...</td>\n",
              "    </tr>\n",
              "    <tr>\n",
              "      <th>9638</th>\n",
              "      <td>2080623</td>\n",
              "      <td>2054684</td>\n",
              "      <td>29266</td>\n",
              "      <td>102339.0</td>\n",
              "      <td>2128-07-03</td>\n",
              "      <td>Neonatology NP Note\\r\\nPE\\r\\nswaddled in open ...</td>\n",
              "    </tr>\n",
              "    <tr>\n",
              "      <th>9639</th>\n",
              "      <td>2080624</td>\n",
              "      <td>2054685</td>\n",
              "      <td>29266</td>\n",
              "      <td>102339.0</td>\n",
              "      <td>2128-07-03</td>\n",
              "      <td>Nursing NICU Note\\r\\n\\r\\n\\r\\n#1.  Respiratory ...</td>\n",
              "    </tr>\n",
              "    <tr>\n",
              "      <th>9640</th>\n",
              "      <td>2080720</td>\n",
              "      <td>2054641</td>\n",
              "      <td>29266</td>\n",
              "      <td>102339.0</td>\n",
              "      <td>2128-06-24</td>\n",
              "      <td>Neonatology Attending\\r\\nDOL 3 / PMA 40-4/7 we...</td>\n",
              "    </tr>\n",
              "    <tr>\n",
              "      <th>9641</th>\n",
              "      <td>2080721</td>\n",
              "      <td>2054642</td>\n",
              "      <td>29266</td>\n",
              "      <td>102339.0</td>\n",
              "      <td>2128-06-24</td>\n",
              "      <td>Neonatology [** 63**] note\\r\\nPE:\\r\\n\\r\\nNEURO...</td>\n",
              "    </tr>\n",
              "  </tbody>\n",
              "</table>\n",
              "</div>"
            ],
            "text/plain": [
              "      UKNWN_COL  ...                                               TEXT\n",
              "9622    2080058  ...  NPN\\r\\n\\r\\n\\r\\n#1RESP: Recv'd infant in NC 1 l...\n",
              "9623    2080059  ...  Respiratory Care\\r\\nInfant placed in oxyhood t...\n",
              "9624    2080060  ...  Neonatology Attending\\r\\nDOL 1 / PMA 40-2/7 we...\n",
              "9625    2080061  ...  NICU NPN 1900-0700\\r\\n\\r\\n\\r\\nRESP O: [**Known...\n",
              "9626    2080181  ...  npn 1900-0700\\r\\n\\r\\n\\r\\n#1 resp\\r\\ninfant con...\n",
              "9627    2080182  ...  Neonatology Attending Note\\r\\nDay 5, PMA 40 6\\...\n",
              "9628    2080183  ...  NPN DAYS\\r\\n\\r\\n\\r\\nALT IN RESP:REMAINS IN NAS...\n",
              "9629    2080184  ...  Attending Note\\r\\nDay of life 19 PMA 42 [**5-1...\n",
              "9630    2080330  ...  Neonatology Attending\\r\\nFull term infant admi...\n",
              "9631    2080331  ...  Neonatology Attending\\r\\n(Continued)\\r\\nymptom...\n",
              "9632    2080332  ...  NICU NURSING ADMIT NOTE\\r\\nTHIS IS A FULL TERM...\n",
              "9633    2080346  ...  Neonatology\\r\\nDOL #13, CGA 42 weeks.\\r\\n\\r\\nC...\n",
              "9634    2080347  ...  Nursing NICU Note\\r\\n\\r\\n\\r\\n#1.  Respiratory ...\n",
              "9635    2080473  ...  NPN 0700-[**2051**]\\r\\n\\r\\n\\r\\n1.  IN RA with ...\n",
              "9636    2080621  ...  NPN 1900-0700\\r\\n\\r\\n\\r\\nRESP:  Infant remains...\n",
              "9637    2080622  ...  Neonatology\\r\\nDoing well. remains in NCO2 flo...\n",
              "9638    2080623  ...  Neonatology NP Note\\r\\nPE\\r\\nswaddled in open ...\n",
              "9639    2080624  ...  Nursing NICU Note\\r\\n\\r\\n\\r\\n#1.  Respiratory ...\n",
              "9640    2080720  ...  Neonatology Attending\\r\\nDOL 3 / PMA 40-4/7 we...\n",
              "9641    2080721  ...  Neonatology [** 63**] note\\r\\nPE:\\r\\n\\r\\nNEURO...\n",
              "\n",
              "[20 rows x 6 columns]"
            ]
          },
          "metadata": {
            "tags": []
          },
          "execution_count": 78
        }
      ]
    },
    {
      "cell_type": "code",
      "metadata": {
        "colab": {
          "base_uri": "https://localhost:8080/"
        },
        "id": "HzGBT9w08Rox",
        "outputId": "8f762f18-fc9a-4826-86ae-c9bafd6dbe27"
      },
      "source": [
        "pandas_df.shape"
      ],
      "execution_count": 83,
      "outputs": [
        {
          "output_type": "execute_result",
          "data": {
            "text/plain": [
              "(9642, 6)"
            ]
          },
          "metadata": {
            "tags": []
          },
          "execution_count": 83
        }
      ]
    },
    {
      "cell_type": "code",
      "metadata": {
        "colab": {
          "base_uri": "https://localhost:8080/"
        },
        "id": "IxZIOezR8XXi",
        "outputId": "c7f2e6ab-89f4-44e5-87af-2c274a51bbbe"
      },
      "source": [
        "pandas_df.info()"
      ],
      "execution_count": 84,
      "outputs": [
        {
          "output_type": "stream",
          "text": [
            "<class 'pandas.core.frame.DataFrame'>\n",
            "RangeIndex: 9642 entries, 0 to 9641\n",
            "Data columns (total 6 columns):\n",
            " #   Column      Non-Null Count  Dtype  \n",
            "---  ------      --------------  -----  \n",
            " 0   UKNWN_COL   9642 non-null   int64  \n",
            " 1   ROW_ID      9642 non-null   int64  \n",
            " 2   SUBJECT_ID  9642 non-null   int64  \n",
            " 3   HADM_ID     8222 non-null   float64\n",
            " 4   CHARTDATE   9642 non-null   object \n",
            " 5   TEXT        9642 non-null   object \n",
            "dtypes: float64(1), int64(3), object(2)\n",
            "memory usage: 452.1+ KB\n"
          ],
          "name": "stdout"
        }
      ]
    },
    {
      "cell_type": "code",
      "metadata": {
        "colab": {
          "base_uri": "https://localhost:8080/",
          "height": 297
        },
        "id": "J3iRQpnG9yVg",
        "outputId": "70d18dbb-b8bd-4100-bc41-3b80dd74b63c"
      },
      "source": [
        "pandas_df.describe()"
      ],
      "execution_count": 86,
      "outputs": [
        {
          "output_type": "execute_result",
          "data": {
            "text/html": [
              "<div>\n",
              "<style scoped>\n",
              "    .dataframe tbody tr th:only-of-type {\n",
              "        vertical-align: middle;\n",
              "    }\n",
              "\n",
              "    .dataframe tbody tr th {\n",
              "        vertical-align: top;\n",
              "    }\n",
              "\n",
              "    .dataframe thead th {\n",
              "        text-align: right;\n",
              "    }\n",
              "</style>\n",
              "<table border=\"1\" class=\"dataframe\">\n",
              "  <thead>\n",
              "    <tr style=\"text-align: right;\">\n",
              "      <th></th>\n",
              "      <th>UKNWN_COL</th>\n",
              "      <th>ROW_ID</th>\n",
              "      <th>SUBJECT_ID</th>\n",
              "      <th>HADM_ID</th>\n",
              "    </tr>\n",
              "  </thead>\n",
              "  <tbody>\n",
              "    <tr>\n",
              "      <th>count</th>\n",
              "      <td>9.642000e+03</td>\n",
              "      <td>9.642000e+03</td>\n",
              "      <td>9642.000000</td>\n",
              "      <td>8222.000000</td>\n",
              "    </tr>\n",
              "    <tr>\n",
              "      <th>mean</th>\n",
              "      <td>1.098950e+06</td>\n",
              "      <td>1.099887e+06</td>\n",
              "      <td>27687.871292</td>\n",
              "      <td>151963.337509</td>\n",
              "    </tr>\n",
              "    <tr>\n",
              "      <th>std</th>\n",
              "      <td>5.859361e+05</td>\n",
              "      <td>5.863771e+05</td>\n",
              "      <td>24335.446171</td>\n",
              "      <td>29731.451320</td>\n",
              "    </tr>\n",
              "    <tr>\n",
              "      <th>min</th>\n",
              "      <td>7.440000e+02</td>\n",
              "      <td>9.340000e+02</td>\n",
              "      <td>403.000000</td>\n",
              "      <td>100481.000000</td>\n",
              "    </tr>\n",
              "    <tr>\n",
              "      <th>25%</th>\n",
              "      <td>6.544888e+05</td>\n",
              "      <td>6.555862e+05</td>\n",
              "      <td>11425.000000</td>\n",
              "      <td>128942.000000</td>\n",
              "    </tr>\n",
              "    <tr>\n",
              "      <th>50%</th>\n",
              "      <td>1.074476e+06</td>\n",
              "      <td>1.069898e+06</td>\n",
              "      <td>19823.000000</td>\n",
              "      <td>147403.000000</td>\n",
              "    </tr>\n",
              "    <tr>\n",
              "      <th>75%</th>\n",
              "      <td>1.622852e+06</td>\n",
              "      <td>1.625378e+06</td>\n",
              "      <td>30015.000000</td>\n",
              "      <td>177882.000000</td>\n",
              "    </tr>\n",
              "    <tr>\n",
              "      <th>max</th>\n",
              "      <td>2.080721e+06</td>\n",
              "      <td>2.054715e+06</td>\n",
              "      <td>99647.000000</td>\n",
              "      <td>199558.000000</td>\n",
              "    </tr>\n",
              "  </tbody>\n",
              "</table>\n",
              "</div>"
            ],
            "text/plain": [
              "          UKNWN_COL        ROW_ID    SUBJECT_ID        HADM_ID\n",
              "count  9.642000e+03  9.642000e+03   9642.000000    8222.000000\n",
              "mean   1.098950e+06  1.099887e+06  27687.871292  151963.337509\n",
              "std    5.859361e+05  5.863771e+05  24335.446171   29731.451320\n",
              "min    7.440000e+02  9.340000e+02    403.000000  100481.000000\n",
              "25%    6.544888e+05  6.555862e+05  11425.000000  128942.000000\n",
              "50%    1.074476e+06  1.069898e+06  19823.000000  147403.000000\n",
              "75%    1.622852e+06  1.625378e+06  30015.000000  177882.000000\n",
              "max    2.080721e+06  2.054715e+06  99647.000000  199558.000000"
            ]
          },
          "metadata": {
            "tags": []
          },
          "execution_count": 86
        }
      ]
    },
    {
      "cell_type": "code",
      "metadata": {
        "colab": {
          "base_uri": "https://localhost:8080/",
          "height": 297
        },
        "id": "wdXwdowt-DpG",
        "outputId": "6014f3e1-3956-413d-db26-ffe9c3f04029"
      },
      "source": [
        "pandas_df.sample(n=8)"
      ],
      "execution_count": 88,
      "outputs": [
        {
          "output_type": "execute_result",
          "data": {
            "text/html": [
              "<div>\n",
              "<style scoped>\n",
              "    .dataframe tbody tr th:only-of-type {\n",
              "        vertical-align: middle;\n",
              "    }\n",
              "\n",
              "    .dataframe tbody tr th {\n",
              "        vertical-align: top;\n",
              "    }\n",
              "\n",
              "    .dataframe thead th {\n",
              "        text-align: right;\n",
              "    }\n",
              "</style>\n",
              "<table border=\"1\" class=\"dataframe\">\n",
              "  <thead>\n",
              "    <tr style=\"text-align: right;\">\n",
              "      <th></th>\n",
              "      <th>UKNWN_COL</th>\n",
              "      <th>ROW_ID</th>\n",
              "      <th>SUBJECT_ID</th>\n",
              "      <th>HADM_ID</th>\n",
              "      <th>CHARTDATE</th>\n",
              "      <th>TEXT</th>\n",
              "    </tr>\n",
              "  </thead>\n",
              "  <tbody>\n",
              "    <tr>\n",
              "      <th>1632</th>\n",
              "      <td>407149</td>\n",
              "      <td>405350</td>\n",
              "      <td>29810</td>\n",
              "      <td>197536.0</td>\n",
              "      <td>2106-04-13</td>\n",
              "      <td>History of metastatic renal cell carcinoma und...</td>\n",
              "    </tr>\n",
              "    <tr>\n",
              "      <th>7665</th>\n",
              "      <td>1699316</td>\n",
              "      <td>1735154</td>\n",
              "      <td>4186</td>\n",
              "      <td>118086.0</td>\n",
              "      <td>2150-08-26</td>\n",
              "      <td>NNP Procedure Note\\r\\nCT removal\\r\\n\\r\\nLeft C...</td>\n",
              "    </tr>\n",
              "    <tr>\n",
              "      <th>303</th>\n",
              "      <td>90115</td>\n",
              "      <td>89660</td>\n",
              "      <td>42715</td>\n",
              "      <td>146156.0</td>\n",
              "      <td>2165-01-24</td>\n",
              "      <td>PATIENT/TEST INFORMATION:\\r\\nIndication: Endoc...</td>\n",
              "    </tr>\n",
              "    <tr>\n",
              "      <th>4519</th>\n",
              "      <td>1016833</td>\n",
              "      <td>1018883</td>\n",
              "      <td>28552</td>\n",
              "      <td>183345.0</td>\n",
              "      <td>2122-07-20</td>\n",
              "      <td>[**Last Name (LF) **],[**First Name3 (LF) 3675...</td>\n",
              "    </tr>\n",
              "    <tr>\n",
              "      <th>204</th>\n",
              "      <td>64397</td>\n",
              "      <td>64172</td>\n",
              "      <td>52574</td>\n",
              "      <td>NaN</td>\n",
              "      <td>2180-08-07</td>\n",
              "      <td>PATIENT/TEST INFORMATION:\\r\\nIndication: Aorti...</td>\n",
              "    </tr>\n",
              "    <tr>\n",
              "      <th>5330</th>\n",
              "      <td>1180722</td>\n",
              "      <td>1183971</td>\n",
              "      <td>52828</td>\n",
              "      <td>NaN</td>\n",
              "      <td>2133-03-15</td>\n",
              "      <td>[**2133-3-15**] 9:36 PM\\r\\n CTA ABD W&amp;W/O C &amp; ...</td>\n",
              "    </tr>\n",
              "    <tr>\n",
              "      <th>3464</th>\n",
              "      <td>817038</td>\n",
              "      <td>817888</td>\n",
              "      <td>1401</td>\n",
              "      <td>NaN</td>\n",
              "      <td>2179-03-03</td>\n",
              "      <td>[**2179-3-3**] 7:44 PM\\r\\n MR SHOULDER W/O CON...</td>\n",
              "    </tr>\n",
              "    <tr>\n",
              "      <th>1364</th>\n",
              "      <td>359205</td>\n",
              "      <td>361973</td>\n",
              "      <td>698</td>\n",
              "      <td>171990.0</td>\n",
              "      <td>2167-12-23</td>\n",
              "      <td>89 year old patient admitted from the EW with ...</td>\n",
              "    </tr>\n",
              "  </tbody>\n",
              "</table>\n",
              "</div>"
            ],
            "text/plain": [
              "      UKNWN_COL  ...                                               TEXT\n",
              "1632     407149  ...  History of metastatic renal cell carcinoma und...\n",
              "7665    1699316  ...  NNP Procedure Note\\r\\nCT removal\\r\\n\\r\\nLeft C...\n",
              "303       90115  ...  PATIENT/TEST INFORMATION:\\r\\nIndication: Endoc...\n",
              "4519    1016833  ...  [**Last Name (LF) **],[**First Name3 (LF) 3675...\n",
              "204       64397  ...  PATIENT/TEST INFORMATION:\\r\\nIndication: Aorti...\n",
              "5330    1180722  ...  [**2133-3-15**] 9:36 PM\\r\\n CTA ABD W&W/O C & ...\n",
              "3464     817038  ...  [**2179-3-3**] 7:44 PM\\r\\n MR SHOULDER W/O CON...\n",
              "1364     359205  ...  89 year old patient admitted from the EW with ...\n",
              "\n",
              "[8 rows x 6 columns]"
            ]
          },
          "metadata": {
            "tags": []
          },
          "execution_count": 88
        }
      ]
    },
    {
      "cell_type": "code",
      "metadata": {
        "colab": {
          "base_uri": "https://localhost:8080/"
        },
        "id": "kOLKLhkj_Prf",
        "outputId": "7b4e1cac-7b95-464f-8fe9-16915f81aee4"
      },
      "source": [
        "pandas_df.isna().any()"
      ],
      "execution_count": 93,
      "outputs": [
        {
          "output_type": "execute_result",
          "data": {
            "text/plain": [
              "UKNWN_COL     False\n",
              "ROW_ID        False\n",
              "SUBJECT_ID    False\n",
              "HADM_ID        True\n",
              "CHARTDATE     False\n",
              "TEXT          False\n",
              "dtype: bool"
            ]
          },
          "metadata": {
            "tags": []
          },
          "execution_count": 93
        }
      ]
    },
    {
      "cell_type": "code",
      "metadata": {
        "colab": {
          "base_uri": "https://localhost:8080/"
        },
        "id": "dFNkG9oA-iCo",
        "outputId": "4492798d-8260-4b80-ce1e-cb9ea384e4c1"
      },
      "source": [
        "pandas_df.isnull().sum()"
      ],
      "execution_count": 92,
      "outputs": [
        {
          "output_type": "execute_result",
          "data": {
            "text/plain": [
              "UKNWN_COL        0\n",
              "ROW_ID           0\n",
              "SUBJECT_ID       0\n",
              "HADM_ID       1420\n",
              "CHARTDATE        0\n",
              "TEXT             0\n",
              "dtype: int64"
            ]
          },
          "metadata": {
            "tags": []
          },
          "execution_count": 92
        }
      ]
    },
    {
      "cell_type": "code",
      "metadata": {
        "id": "Wf78KK_2_8Hr"
      },
      "source": [
        "text = pandas_df.TEXT[0]"
      ],
      "execution_count": 111,
      "outputs": []
    },
    {
      "cell_type": "code",
      "metadata": {
        "colab": {
          "base_uri": "https://localhost:8080/",
          "height": 137
        },
        "id": "0eTRRVanBH-S",
        "outputId": "a20c3300-7fd3-4605-b8f8-642891110074"
      },
      "source": [
        "text"
      ],
      "execution_count": 112,
      "outputs": [
        {
          "output_type": "execute_result",
          "data": {
            "application/vnd.google.colaboratory.intrinsic+json": {
              "type": "string"
            },
            "text/plain": [
              "'Admission Date:  [**2191-4-18**]              Discharge Date:   [**2191-5-10**]\\r\\n\\r\\nDate of Birth:  [**2112-3-14**]             Sex:   M\\r\\n\\r\\nService: MEDICINE\\r\\n\\r\\nAllergies:\\r\\nCeftriaxone\\r\\n\\r\\nAttending:[**First Name3 (LF) 2297**]\\r\\nChief Complaint:\\r\\nPneumonia\\r\\n\\r\\nMajor Surgical or Invasive Procedure:\\r\\nnone\\r\\n\\r\\nHistory of Present Illness:\\r\\nThis is a 79 yo recently diagnosed with [**Doctor Last Name 6261**] syndrome\\r\\n(transformation of CLL to large B cell NHL) now s/p 3 cycles of\\r\\nCHOP presents with PNA diagnosed at [**Hospital1 **] ED.  The pt is\\r\\nnow referred from [**Hospital 478**] clinic for treatment of PNA.  The pt\\r\\npresented to OSH ED on [**4-13**] and was diagnosed with LLL PNA and\\r\\nwas given a course of levofloxacin.  The pt did not take his abx\\r\\nas prescribed.  He c/o increased SOB, DOE, and cough x 1 week.\\r\\nThe pt also c/o decrease appetite over past week with 4 lb\\r\\nweight loss.  No increase in fatigue.  No f/c/s, n/v, d/c,\\r\\nabdominal pain, chest pain, or pain with inspiration.\\r\\n\\r\\nPast Medical History:\\r\\n1) CAD\\r\\n2) HTN\\r\\n3) Dyslipidemia\\r\\n4) PVD s/p PTCA, RCI/LCI/LEI stenting, and fem bypass\\r\\n5) Arthritis\\r\\n6) h/o CVA while on ASA/plavix\\r\\n7) BPH\\r\\n8) Early Parkinson\\'s Disease\\r\\n.\\r\\nOnc History:\\r\\nsubcarinal LAD noted on bronchscopy in [**1-23**] which was negative\\r\\nfor malignant cells. Referred by Dr. [**First Name (STitle) 1313**] to heme onc for\\r\\nenlarged lower lobe lung mass. Mediastinoscopy was performed in\\r\\n[**11-22**] which was suggestive of atypical chronic lymphocytic\\r\\nleukemia.  Lung biopsy performed revealed a large Bcell NHL. The\\r\\nprobable basis for his problem is understood to be\\r\\ntransformation of CLL to a [**Doctor Last Name 6261**] syndrome. s/p 3 cycles of\\r\\nCHOP\\r\\n.\\r\\nLymph Node bx [**11-22**]:\\r\\nImmunophenotypic findings are of involvement by a\\r\\nlambda-restricted CD5 positive B-cell lymphoproliferative\\r\\ndisorder.  The differential diagnosis includes an atypical\\r\\nchronic lymphocytic leukemia (with subset loss of CD23).\\r\\n.\\r\\nCT [**2191-4-5**]:\\r\\n1.  Unchanged size of left lower lung lobe mass measuring\\r\\napproximately 7.4 cm in greatest axial dimension.  This mass has\\r\\ndecreased attenuation when compared with the prior exam which\\r\\nmay be secondary to chemotherapy treatment and necrosis.  Small\\r\\npulmonary nodules in the lower lobes bilaterally are unchanged.\\r\\n\\r\\n\\r\\nSocial History:\\r\\nQuit smoking [**2150**], smoked 1.5 ppd x 20 yrs. [**12-20**] glasses\\r\\nwine/day. lives alone at [**Location (un) 2725**].\\r\\n\\r\\n\\r\\nFamily History:\\r\\nMother died of CVA, also had h/o stomach and intestinal cancer\\r\\nFather died of CVA\\r\\nSister died of lung cancer\\r\\n\\r\\nPhysical Exam:\\r\\nVS: T 97.3 P 99 BP 130/68 R 20 Sat 85-88%RA\\r\\nGen: AAO times 3\\r\\nHEENT: NCAT, PERRL, conjunctivae anicteric/noninjected, MMM, OP\\r\\nclear\\r\\nNeck: JVP 7 cm\\r\\nCV: RRR, nS1S2, no r/m/g\\r\\nPulm: diffuse ronchi\\r\\nAbd: soft, NT/ND without masses or bruits, NABS, no palpable HSM\\r\\nExt: 1+ pitting in BL feet and pretibial, weak BL DP/PT pulses\\r\\nNeuro: grossly intact\\r\\n\\r\\n\\r\\nPertinent Results:\\r\\n[**2191-4-18**] 05:10PM   GLUCOSE-104 UREA N-43* CREAT-1.2 SODIUM-135\\r\\nPOTASSIUM-4.6 CHLORIDE-99 TOTAL CO2-21* ANION GAP-20\\r\\n[**2191-4-18**] 05:10PM   CALCIUM-9.2 PHOSPHATE-4.2 MAGNESIUM-1.8\\r\\n[**2191-4-18**] 05:10PM   WBC-13.6* RBC-3.54* HGB-9.5* HCT-29.9* MCV-84\\r\\nMCH-26.8* MCHC-31.7 RDW-20.3*\\r\\n[**2191-4-18**] 05:10PM   NEUTS-92.1* LYMPHS-4.5* MONOS-2.9 EOS-0.2\\r\\nBASOS-0.2\\r\\n[**2191-4-18**] 05:10PM   HYPOCHROM-2+ ANISOCYT-2+ MICROCYT-1+\\r\\n[**2191-4-18**] 05:10PM   PLT COUNT-357\\r\\n[**2191-4-18**] 03:35PM   WBC-13.4* RBC-3.65*# HGB-10.3*# HCT-31.1*#\\r\\nMCV-85 MCH-28.3 MCHC-33.3 RDW-20.1*\\r\\n[**2191-4-18**] 03:35PM   NEUTS-91.4* LYMPHS-4.4* MONOS-3.9 EOS-0.1\\r\\nBASOS-0.2\\r\\n[**2191-4-18**] 03:35PM   HYPOCHROM-2+ ANISOCYT-2+ MICROCYT-1+\\r\\n.\\r\\nCXR:\\r\\nAP AND LATERAL CHEST: The heart size is normal. The aorta is\\r\\ncalcified and tortuous without focal dilatation. There has been\\r\\ninterval worsening of right upper lobe, left upper lobe, and\\r\\nleft retrocardiac airspace opacities consistent with multifocal\\r\\npneumonia. The pulmonary vasculature is normal. There is a\\r\\nlikely small left pleural effusion.\\r\\n\\r\\nIMPRESSION: Worsening of the multifocal pneumonia.\\r\\n.\\r\\nCT Chest:\\r\\nIMPRESSION:\\r\\n1. Interval increase in patchy ground glass opacities\\r\\nbilaterally, predominantly in the upper lungs, consistent with\\r\\nworsening multifocal pneumonia.\\r\\n2. Unchanged appearance of tree-in-[**Male First Name (un) 239**] opacities in the right\\r\\nmiddle and lower lungs, consistent with infection.\\r\\n3. Unchanged appearance of left lower lung mass.\\r\\n\\r\\n[**5-9**] CXR:\\r\\nIMPRESSION: AP chest compared to [**5-6**] and 21. Severe\\r\\nconsolidation in the left lung and in the right lung apex more\\r\\nsignificantly since [**5-8**]. Pleural effusion, moderate on the\\r\\nleft and small on the right is stable. Heart size top normal.\\r\\nFindings could represent worsening of either asymmetric\\r\\npulmonary edema or pneumonia.\\r\\n\\r\\nBrief Hospital Course:\\r\\nHospital Course: Briefly pt is a 79 M with [**Doctor Last Name 6261**] syndrome\\r\\n(transformation of CLL to large B cell NHL) s/p 3 cycles of CHOP\\r\\nwho originally presented here for multifocal PN on [**4-18**] and\\r\\nstarted on levofloxacin. On the evening of [**4-19**] pt with irreg\\r\\ntachy - ? MAT. Pt then became hypoxic on NRB and CXR w/\\r\\nworsening multifocal infiltrates. CTA r/o\\'d PE. Treated w/\\r\\nVanc/Zosyn. Pt temporarily on heparin gtt and had 9pt HCT drop.\\r\\nHe was tx\\'d 2 units pRBC, remained in resp distress, developed\\r\\nRVR, flash pulm edema, and was intubated. His Tpn peaked at\\r\\n0.44. TTE revealed EF 25%. Bronchoscopy on [**4-21**] neg. Pt was\\r\\nstarted on metoprolol/captopril and extubated.\\r\\n.\\r\\nHe was tx\\'d to OMED svc. Again decompensated with RVR and\\r\\nrequired NRB by [**4-29**]. He also developed diarrhea, a rising WBC,\\r\\nand a lactate up to 5.7. He was tx\\'d back to the ICU for hypoxic\\r\\nrespiratory failure and intubated. He was treated with flagyl\\r\\nfor c dif despite negative toxins, levoflox for atypical\\r\\ncoverage, [**Last Name (un) 2830**] and vanco to complete a course of antibiotics. He\\r\\nwas noted to have an NSTEMI on [**4-29**] with peak MB 64 and Trop\\r\\n1.08. His volume status was managed, he was aggressively\\r\\nsuctioned and extubated with a plan for no reintubation after\\r\\nextensive discussion with the family and pt\\'s son and HCP(ie:\\r\\nDNR/DNI).\\r\\n.\\r\\nHe returned to the OMED service on [**2191-5-7**] where there was\\r\\napparently another conversation regarding code status during\\r\\nwhich the pt requested to be Full Code, though his family felt\\r\\nthat he was confused and did not understand the meaning of the\\r\\nconversation. His son [**Name (NI) 382**] and daughter continued to request\\r\\nthat he be DNR/DNI and felt that this was in keeping with his\\r\\ndesires. On the BMT unit, the patient was initiated on TPN. He\\r\\nwas also noted to have another increase in CE\\'s [**5-8**] with a MB\\r\\n30 and Trop 1.[**Street Address(2) 6262**] elevations on EKG. He received lasix\\r\\n20mg x 3 over the day of [**5-8**] to maintain negative fluid\\r\\nbalance. He became tachypneic and desaturated to an O2 sat of\\r\\n79% on RA. His HR was 106. He was started on NRB and ABG showed\\r\\n7.36/33/63 and his sats on NRB ranged from 90-94%. He was also\\r\\ngiven 40 mg IV lasix and pt had 60 cc foley output. CXR\\r\\nconfirmed worsening CHF.\\r\\n.\\r\\nICU was called for transfer given his tachypnea, hypoxia, and\\r\\nincreased work of breathing. The patient\\'s PCP, [**Last Name (NamePattern4) **]. [**First Name (STitle) 1313**], who\\r\\nwas involved in the code discussions (Dr. [**First Name (STitle) 1313**] was [**First Name (STitle) 653**]\\r\\nand felt the pt should remain DNR/DNI. The pt\\'s son was also\\r\\n[**Name (NI) 653**] and felt very strongly that the patient should be\\r\\nDNR/DNI. [**Name (NI) **] sister was also called because she was\\r\\npresent during the daytime today when code status was changed\\r\\nand confirmed that the patient was confused today, answered only\\r\\n\"yes\" to questions, and did not clearly state his desires when\\r\\nasked. Prior to transfer to ICU, the patient was confused and in\\r\\nrespiratory distress and did not reliably answer questions. He\\r\\nwas transfered to the ICU for further monitoring.\\r\\n.\\r\\nIn the ICU, the pt\\'s code status remained DNR/DNI.  Family and\\r\\nPCP were [**Name (NI) 653**].  The pt continued to deteriorate and goals\\r\\nof care were turned to comfort primarily.  He died comfortably.\\r\\n\\r\\n\\r\\nMedications on Admission:\\r\\nLipitor 5 mg, atenolol 12.5 mg po qd, L-dopa 25/100 tid\\r\\n\\r\\n\\r\\nDischarge Medications:\\r\\nN/A\\r\\n\\r\\nDischarge Disposition:\\r\\nExpired\\r\\n\\r\\nDischarge Diagnosis:\\r\\nExpired\\r\\n\\r\\nDischarge Condition:\\r\\nExpired\\r\\n\\r\\nDischarge Instructions:\\r\\nExpired\\r\\n\\r\\nFollowup Instructions:\\r\\nExpired\\r\\n\\r\\n\\r\\nCompleted by:[**2191-5-19**]'"
            ]
          },
          "metadata": {
            "tags": []
          },
          "execution_count": 112
        }
      ]
    },
    {
      "cell_type": "code",
      "metadata": {
        "colab": {
          "base_uri": "https://localhost:8080/"
        },
        "id": "UhwzFxDkDOwW",
        "outputId": "e48fe96f-30d4-431c-8d22-7dd8c94906df"
      },
      "source": [
        "sparkDF= spark.createDataFrame(pandas_df)\n",
        "sparkDF.show()"
      ],
      "execution_count": 113,
      "outputs": [
        {
          "output_type": "stream",
          "text": [
            "+---------+------+----------+--------+----------+--------------------+\n",
            "|UKNWN_COL|ROW_ID|SUBJECT_ID| HADM_ID| CHARTDATE|                TEXT|\n",
            "+---------+------+----------+--------+----------+--------------------+\n",
            "|      744|   934|     18589|181162.0|2191-05-10|Admission Date:  ...|\n",
            "|     1315|  1125|     17581|144831.0|2126-05-22|Admission Date:  ...|\n",
            "|     1316|  1126|     17581|140044.0|2127-07-29|Admission Date:  ...|\n",
            "|     2117|  1896|      8904|147403.0|2108-03-13|Admission Date:  ...|\n",
            "|     2761|  2872|     18054|138511.0|2147-12-11|Admission Date:  ...|\n",
            "|     2762|  2873|     18054|191467.0|2157-12-02|Admission Date:  ...|\n",
            "|     3414|  3704|     52574|109934.0|2180-08-31|Admission Date:  ...|\n",
            "|     3415|  3705|     52574|189995.0|2180-10-29|Admission Date:  ...|\n",
            "|     3416|  3706|     52574|177706.0|2181-02-27|Admission Date:  ...|\n",
            "|     4287|  4273|     11425|194366.0|2100-09-24|Admission Date:  ...|\n",
            "|     4998|  4994|     19823|179754.0|2167-02-25|Admission Date:  ...|\n",
            "|     4999|  4995|     19823|134485.0|2167-11-27|Admission Date:  ...|\n",
            "|     5000|  4996|     19823|116955.0|2170-10-12|Admission Date:  ...|\n",
            "|     5001|  4997|     19823|153858.0|2172-06-22|Admission Date:  ...|\n",
            "|     5066|  5166|     22015|140074.0|2161-05-22|Admission Date:  ...|\n",
            "|     5428|  5427|      1763|153895.0|2132-03-27|Admission Date:  ...|\n",
            "|     6558|  7135|      2148|123870.0|2148-11-03|Admission Date:  ...|\n",
            "|     6782| 12290|     15731|156251.0|2121-04-20|Admission Date:  ...|\n",
            "|     8168|  6522|      3268|103745.0|2161-11-16|Admission Date:  ...|\n",
            "|     8169|  6523|      3268|115960.0|2167-03-15|Admission Date:  ...|\n",
            "+---------+------+----------+--------+----------+--------------------+\n",
            "only showing top 20 rows\n",
            "\n"
          ],
          "name": "stdout"
        }
      ]
    },
    {
      "cell_type": "code",
      "metadata": {
        "id": "1TG0NXhrJMri"
      },
      "source": [
        "lmodel = LightPipeline(model)\n",
        "\n",
        "results = lmodel.fullAnnotate(text)"
      ],
      "execution_count": 115,
      "outputs": []
    },
    {
      "cell_type": "code",
      "metadata": {
        "id": "AR8AZi1uSDEd"
      },
      "source": [
        ""
      ],
      "execution_count": null,
      "outputs": []
    },
    {
      "cell_type": "code",
      "metadata": {
        "colab": {
          "base_uri": "https://localhost:8080/"
        },
        "id": "AChpoSFwSOJj",
        "outputId": "46e63a4f-0302-4d8e-a96e-ed6310bb6b0d"
      },
      "source": [
        "results[0].keys()"
      ],
      "execution_count": 116,
      "outputs": [
        {
          "output_type": "execute_result",
          "data": {
            "text/plain": [
              "dict_keys(['document'])"
            ]
          },
          "metadata": {
            "tags": []
          },
          "execution_count": 116
        }
      ]
    },
    {
      "cell_type": "code",
      "metadata": {
        "id": "hVT2zXCzSOt-"
      },
      "source": [
        ""
      ],
      "execution_count": null,
      "outputs": []
    },
    {
      "cell_type": "code",
      "metadata": {
        "colab": {
          "base_uri": "https://localhost:8080/"
        },
        "id": "e6xCm2Z2SqGg",
        "outputId": "943bff4f-b927-4e35-cd77-fb0b2d5e672f"
      },
      "source": [
        "results[0]"
      ],
      "execution_count": 117,
      "outputs": [
        {
          "output_type": "execute_result",
          "data": {
            "text/plain": [
              "{'document': [Annotation(document, 0, 2, 744, {})]}"
            ]
          },
          "metadata": {
            "tags": []
          },
          "execution_count": 117
        }
      ]
    }
  ]
}